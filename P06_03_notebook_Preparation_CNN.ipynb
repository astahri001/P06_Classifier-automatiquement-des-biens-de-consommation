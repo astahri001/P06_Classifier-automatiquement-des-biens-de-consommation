{
  "nbformat": 4,
  "nbformat_minor": 0,
  "metadata": {
    "colab": {
      "name": "P06_03_notebook_Preparation_CNN.ipynb",
      "provenance": [],
      "collapsed_sections": [],
      "toc_visible": true
    },
    "kernelspec": {
      "display_name": "Python 3",
      "language": "python",
      "name": "python3"
    },
    "language_info": {
      "codemirror_mode": {
        "name": "ipython",
        "version": 3
      },
      "file_extension": ".py",
      "mimetype": "text/x-python",
      "name": "python",
      "nbconvert_exporter": "python",
      "pygments_lexer": "ipython3",
      "version": "3.8.3"
    }
  },
  "cells": [
    {
      "cell_type": "markdown",
      "metadata": {
        "id": "dCG_lz_GBJKe"
      },
      "source": [
        "### Table of Contents\n",
        "\n",
        "* [Chapter 1](#chapter1) Nettoyage des données\n"
      ]
    },
    {
      "cell_type": "markdown",
      "metadata": {
        "id": "EUK7JgPnAUXd"
      },
      "source": [
        "# Importation et analyse des données"
      ]
    },
    {
      "cell_type": "code",
      "metadata": {
        "id": "AGSSCjvlAUXd",
        "colab": {
          "base_uri": "https://localhost:8080/"
        },
        "outputId": "8bfffca4-df8c-406a-a7ff-49038c5c57ed"
      },
      "source": [
        "# import des librairies\n",
        "import numpy as np\n",
        "import pandas as pd\n",
        "import glob\n",
        "import scipy.stats as stats\n",
        "\n",
        "## Les figures sont réalisées avec Plotly\n",
        "import plotly.express as px\n",
        "import plotly.io as pio\n",
        "import plotly.graph_objects as go\n",
        "from   plotly.subplots import make_subplots\n",
        "import matplotlib.pyplot as plt\n",
        "import seaborn as sns\n",
        "from matplotlib.collections import LineCollection\n",
        "\n",
        "from sklearn.model_selection import train_test_split\n",
        "\n",
        "import logging as lg\n",
        "import os\n",
        "from PIL import Image,ImageOps,ImageFilter\n",
        "\n",
        "import nltk\n",
        "nltk.download('punkt')\n",
        "nltk.download('stopwords')"
      ],
      "execution_count": null,
      "outputs": [
        {
          "output_type": "stream",
          "name": "stdout",
          "text": [
            "[nltk_data] Downloading package punkt to /root/nltk_data...\n",
            "[nltk_data]   Package punkt is already up-to-date!\n",
            "[nltk_data] Downloading package stopwords to /root/nltk_data...\n",
            "[nltk_data]   Package stopwords is already up-to-date!\n"
          ]
        },
        {
          "output_type": "execute_result",
          "data": {
            "text/plain": [
              "True"
            ]
          },
          "metadata": {},
          "execution_count": 17
        }
      ]
    },
    {
      "cell_type": "code",
      "metadata": {
        "id": "hiymq5TYL238",
        "colab": {
          "base_uri": "https://localhost:8080/"
        },
        "outputId": "1ac5c36a-aeca-4e15-e880-41a4e510a8a7"
      },
      "source": [
        "from google.colab import drive\n",
        "drive.mount(\"/content/drive\")"
      ],
      "execution_count": null,
      "outputs": [
        {
          "output_type": "stream",
          "name": "stdout",
          "text": [
            "Mounted at /content/drive\n"
          ]
        }
      ]
    },
    {
      "cell_type": "markdown",
      "metadata": {
        "id": "1OuLUKTun85L"
      },
      "source": [
        "# Préparation des données pour le CNN"
      ]
    },
    {
      "cell_type": "code",
      "metadata": {
        "id": "yPuSI-6QVTUn"
      },
      "source": [
        "path_data='/content/drive/MyDrive/OC Asma - Tahri/P06/Data/'\n",
        "path_image= '/content/drive/MyDrive/OC Asma - Tahri/P06/Data/Flipkart/Images/'\n",
        "path_res=path_res=path_image+'resized/'"
      ],
      "execution_count": null,
      "outputs": []
    },
    {
      "cell_type": "code",
      "metadata": {
        "id": "Va79tGxPQU9X",
        "colab": {
          "base_uri": "https://localhost:8080/",
          "height": 161
        },
        "outputId": "0a50d0aa-f74c-4225-ecaf-336bba957eab"
      },
      "source": [
        "df_desc_image = pd.read_csv(path_data+\"df_desc_image.csv\",index_col=0)\n",
        "df_desc_image.sample(2)"
      ],
      "execution_count": null,
      "outputs": [
        {
          "output_type": "execute_result",
          "data": {
            "text/html": [
              "<div>\n",
              "<style scoped>\n",
              "    .dataframe tbody tr th:only-of-type {\n",
              "        vertical-align: middle;\n",
              "    }\n",
              "\n",
              "    .dataframe tbody tr th {\n",
              "        vertical-align: top;\n",
              "    }\n",
              "\n",
              "    .dataframe thead th {\n",
              "        text-align: right;\n",
              "    }\n",
              "</style>\n",
              "<table border=\"1\" class=\"dataframe\">\n",
              "  <thead>\n",
              "    <tr style=\"text-align: right;\">\n",
              "      <th></th>\n",
              "      <th>uniq_id</th>\n",
              "      <th>cat_level_0</th>\n",
              "      <th>product_name</th>\n",
              "      <th>description</th>\n",
              "      <th>brand</th>\n",
              "      <th>image</th>\n",
              "    </tr>\n",
              "  </thead>\n",
              "  <tbody>\n",
              "    <tr>\n",
              "      <th>386</th>\n",
              "      <td>59d964c38c787f829c6cfa5629e4df90</td>\n",
              "      <td>Beauty and Personal Care</td>\n",
              "      <td>French Factor Man of the Year Deodorant Gift S...</td>\n",
              "      <td>Flipkart.com: Buy French Factor Man of the Yea...</td>\n",
              "      <td>NaN</td>\n",
              "      <td>59d964c38c787f829c6cfa5629e4df90.jpg</td>\n",
              "    </tr>\n",
              "    <tr>\n",
              "      <th>578</th>\n",
              "      <td>5338c00e0ddaec0f3af737077e0bbd91</td>\n",
              "      <td>Watches</td>\n",
              "      <td>Timewel 1100-N1949_B Analog Watch  - For Women</td>\n",
              "      <td>Timewel 1100-N1949_B Analog Watch  - For Women...</td>\n",
              "      <td>NaN</td>\n",
              "      <td>5338c00e0ddaec0f3af737077e0bbd91.jpg</td>\n",
              "    </tr>\n",
              "  </tbody>\n",
              "</table>\n",
              "</div>"
            ],
            "text/plain": [
              "                              uniq_id  ...                                 image\n",
              "386  59d964c38c787f829c6cfa5629e4df90  ...  59d964c38c787f829c6cfa5629e4df90.jpg\n",
              "578  5338c00e0ddaec0f3af737077e0bbd91  ...  5338c00e0ddaec0f3af737077e0bbd91.jpg\n",
              "\n",
              "[2 rows x 6 columns]"
            ]
          },
          "metadata": {},
          "execution_count": 38
        }
      ]
    },
    {
      "cell_type": "code",
      "metadata": {
        "id": "tQ3hgDKJp34c"
      },
      "source": [
        "# Mettre les id_image en index:\n",
        "df_desc_image.set_index('image',inplace = True)"
      ],
      "execution_count": null,
      "outputs": []
    },
    {
      "cell_type": "code",
      "metadata": {
        "id": "mHiH6TnTQVEd",
        "colab": {
          "base_uri": "https://localhost:8080/"
        },
        "outputId": "79efa625-03fe-4eea-f846-478e14658f19"
      },
      "source": [
        "# Liste des classes pour etiquetter les images\n",
        "classes=df_desc_image['cat_level_0'].unique().tolist()\n",
        "classes"
      ],
      "execution_count": null,
      "outputs": [
        {
          "output_type": "execute_result",
          "data": {
            "text/plain": [
              "['Home Furnishing',\n",
              " 'Baby Care',\n",
              " 'Watches',\n",
              " 'Home Decor & Festive Needs',\n",
              " 'Kitchen & Dining',\n",
              " 'Beauty and Personal Care',\n",
              " 'Computers']"
            ]
          },
          "metadata": {},
          "execution_count": 7
        }
      ]
    },
    {
      "cell_type": "code",
      "metadata": {
        "id": "P8GTbxYhsiYZ"
      },
      "source": [
        "path_cat=path_data+'Flipkart/Images/'"
      ],
      "execution_count": null,
      "outputs": []
    },
    {
      "cell_type": "code",
      "metadata": {
        "id": "TRNf3wIS2aP_"
      },
      "source": [
        "# Fonction pour créer des nouveaux dossiers:\n",
        "def new_folder(path,name):\n",
        "  try:\n",
        "    os.mkdir(path+name)\n",
        "    print('Le dossier:{}'.format(name)+' est créé')\n",
        "  except FileExistsError as e:\n",
        "    lg.warning('Message: {}'.format(os.strerror(e.errno)))\n",
        "  except:\n",
        "    print(os.strerror(e.errno))"
      ],
      "execution_count": null,
      "outputs": []
    },
    {
      "cell_type": "code",
      "metadata": {
        "colab": {
          "base_uri": "https://localhost:8080/"
        },
        "id": "qqqM5uIXXIBC",
        "outputId": "0fb1b18d-d8e5-451d-98ac-0bb5dca3dd1e"
      },
      "source": [
        "# Créer un dossier par catégorie pour stocker les images de chaque categorie:\n",
        "for classe in classes:\n",
        "  new_folder(path_data+'Flipkart/Images/',classe)"
      ],
      "execution_count": null,
      "outputs": [
        {
          "output_type": "stream",
          "name": "stderr",
          "text": [
            "WARNING:root:Message: File exists\n",
            "WARNING:root:Message: File exists\n",
            "WARNING:root:Message: File exists\n",
            "WARNING:root:Message: File exists\n",
            "WARNING:root:Message: File exists\n",
            "WARNING:root:Message: File exists\n",
            "WARNING:root:Message: File exists\n"
          ]
        }
      ]
    },
    {
      "cell_type": "code",
      "metadata": {
        "id": "_k9ZiJoLWSgl"
      },
      "source": [
        "# Sauvegarder chaque image dans le dossier qui correspond à sa catégorie:\n",
        "for im in df_desc_image.index.tolist():\n",
        "  for classe in classes:\n",
        "    if df_desc_image['cat_level_0'][im]==classe:\n",
        "      path_classe=path_cat+classe+'/'\n",
        "      image=Image.open(path_res+im)\n",
        "      image.save(path_classe+ im.split(\"/\")[-1])\n"
      ],
      "execution_count": null,
      "outputs": []
    },
    {
      "cell_type": "code",
      "metadata": {
        "id": "JXSZd4OwQVed"
      },
      "source": [
        "#fonction pour créer un dataframe par classe:\n",
        "\n",
        "def create_df(path,classe):\n",
        "  list_df=[]\n",
        "  path_classe=path+classe+'/'\n",
        "  \n",
        "  all_files = glob.glob(path_classe + \"/*.jpg\")\n",
        " \n",
        "  list_df.append(all_files)\n",
        "\n",
        "  list_id=[]\n",
        "  for i in all_files:\n",
        "    img_id=i.split(\"/\")[-1]\n",
        "    list_id.append(img_id)\n",
        "\n",
        "  df_classe=pd.DataFrame(list_id,columns=['img_id'])\n",
        "  df_classe[classe]=1\n",
        "  df_classe.set_index('img_id', inplace = True)\n",
        "\n",
        "  return df_classe"
      ],
      "execution_count": null,
      "outputs": []
    },
    {
      "cell_type": "code",
      "metadata": {
        "id": "2EDiCWhKQVl1"
      },
      "source": [
        "#créer le dataset qui regroupe toutes les classes:\n",
        "data=pd.concat([(create_df(path_cat,classe)) for classe in classes],axis=1)"
      ],
      "execution_count": null,
      "outputs": []
    },
    {
      "cell_type": "code",
      "metadata": {
        "id": "ImzP1aRHV7I-",
        "colab": {
          "base_uri": "https://localhost:8080/",
          "height": 434
        },
        "outputId": "424b39b3-0814-4a4e-e11e-2b1e11c20b65"
      },
      "source": [
        "# Completer par des 0:\n",
        "data=data.fillna(0)\n",
        "data"
      ],
      "execution_count": null,
      "outputs": [
        {
          "output_type": "execute_result",
          "data": {
            "text/html": [
              "<div>\n",
              "<style scoped>\n",
              "    .dataframe tbody tr th:only-of-type {\n",
              "        vertical-align: middle;\n",
              "    }\n",
              "\n",
              "    .dataframe tbody tr th {\n",
              "        vertical-align: top;\n",
              "    }\n",
              "\n",
              "    .dataframe thead th {\n",
              "        text-align: right;\n",
              "    }\n",
              "</style>\n",
              "<table border=\"1\" class=\"dataframe\">\n",
              "  <thead>\n",
              "    <tr style=\"text-align: right;\">\n",
              "      <th></th>\n",
              "      <th>Home Furnishing</th>\n",
              "      <th>Baby Care</th>\n",
              "      <th>Watches</th>\n",
              "      <th>Home Decor &amp; Festive Needs</th>\n",
              "      <th>Kitchen &amp; Dining</th>\n",
              "      <th>Beauty and Personal Care</th>\n",
              "      <th>Computers</th>\n",
              "    </tr>\n",
              "  </thead>\n",
              "  <tbody>\n",
              "    <tr>\n",
              "      <th>55b85ea15a1536d46b7190ad6fff8ce7.jpg</th>\n",
              "      <td>1.0</td>\n",
              "      <td>0.0</td>\n",
              "      <td>0.0</td>\n",
              "      <td>0.0</td>\n",
              "      <td>0.0</td>\n",
              "      <td>0.0</td>\n",
              "      <td>0.0</td>\n",
              "    </tr>\n",
              "    <tr>\n",
              "      <th>6325b6870c54cd47be6ebfbffa620ec7.jpg</th>\n",
              "      <td>1.0</td>\n",
              "      <td>0.0</td>\n",
              "      <td>0.0</td>\n",
              "      <td>0.0</td>\n",
              "      <td>0.0</td>\n",
              "      <td>0.0</td>\n",
              "      <td>0.0</td>\n",
              "    </tr>\n",
              "    <tr>\n",
              "      <th>d4684dcdc759dd9cdf41504698d737d8.jpg</th>\n",
              "      <td>1.0</td>\n",
              "      <td>0.0</td>\n",
              "      <td>0.0</td>\n",
              "      <td>0.0</td>\n",
              "      <td>0.0</td>\n",
              "      <td>0.0</td>\n",
              "      <td>0.0</td>\n",
              "    </tr>\n",
              "    <tr>\n",
              "      <th>a4b09aa7927c59fbb39960b3d7919909.jpg</th>\n",
              "      <td>1.0</td>\n",
              "      <td>0.0</td>\n",
              "      <td>0.0</td>\n",
              "      <td>0.0</td>\n",
              "      <td>0.0</td>\n",
              "      <td>0.0</td>\n",
              "      <td>0.0</td>\n",
              "    </tr>\n",
              "    <tr>\n",
              "      <th>81e739c7f3be737152f2e6f520e3494b.jpg</th>\n",
              "      <td>1.0</td>\n",
              "      <td>0.0</td>\n",
              "      <td>0.0</td>\n",
              "      <td>0.0</td>\n",
              "      <td>0.0</td>\n",
              "      <td>0.0</td>\n",
              "      <td>0.0</td>\n",
              "    </tr>\n",
              "    <tr>\n",
              "      <th>...</th>\n",
              "      <td>...</td>\n",
              "      <td>...</td>\n",
              "      <td>...</td>\n",
              "      <td>...</td>\n",
              "      <td>...</td>\n",
              "      <td>...</td>\n",
              "      <td>...</td>\n",
              "    </tr>\n",
              "    <tr>\n",
              "      <th>9b805665a791f40e7946a73dcea17e35.jpg</th>\n",
              "      <td>0.0</td>\n",
              "      <td>0.0</td>\n",
              "      <td>0.0</td>\n",
              "      <td>0.0</td>\n",
              "      <td>0.0</td>\n",
              "      <td>0.0</td>\n",
              "      <td>1.0</td>\n",
              "    </tr>\n",
              "    <tr>\n",
              "      <th>b5834f1e97c74d2833dbcb09a3f27926.jpg</th>\n",
              "      <td>0.0</td>\n",
              "      <td>0.0</td>\n",
              "      <td>0.0</td>\n",
              "      <td>0.0</td>\n",
              "      <td>0.0</td>\n",
              "      <td>0.0</td>\n",
              "      <td>1.0</td>\n",
              "    </tr>\n",
              "    <tr>\n",
              "      <th>7815fb39feb773db944c9f03bbdcbf64.jpg</th>\n",
              "      <td>0.0</td>\n",
              "      <td>0.0</td>\n",
              "      <td>0.0</td>\n",
              "      <td>0.0</td>\n",
              "      <td>0.0</td>\n",
              "      <td>0.0</td>\n",
              "      <td>1.0</td>\n",
              "    </tr>\n",
              "    <tr>\n",
              "      <th>d407ab825e1a266635214bfe893f29c4.jpg</th>\n",
              "      <td>0.0</td>\n",
              "      <td>0.0</td>\n",
              "      <td>0.0</td>\n",
              "      <td>0.0</td>\n",
              "      <td>0.0</td>\n",
              "      <td>0.0</td>\n",
              "      <td>1.0</td>\n",
              "    </tr>\n",
              "    <tr>\n",
              "      <th>5a54c78b52c984e56500809e5bc27ae1.jpg</th>\n",
              "      <td>0.0</td>\n",
              "      <td>0.0</td>\n",
              "      <td>0.0</td>\n",
              "      <td>0.0</td>\n",
              "      <td>0.0</td>\n",
              "      <td>0.0</td>\n",
              "      <td>1.0</td>\n",
              "    </tr>\n",
              "  </tbody>\n",
              "</table>\n",
              "<p>1050 rows × 7 columns</p>\n",
              "</div>"
            ],
            "text/plain": [
              "                                      Home Furnishing  ...  Computers\n",
              "55b85ea15a1536d46b7190ad6fff8ce7.jpg              1.0  ...        0.0\n",
              "6325b6870c54cd47be6ebfbffa620ec7.jpg              1.0  ...        0.0\n",
              "d4684dcdc759dd9cdf41504698d737d8.jpg              1.0  ...        0.0\n",
              "a4b09aa7927c59fbb39960b3d7919909.jpg              1.0  ...        0.0\n",
              "81e739c7f3be737152f2e6f520e3494b.jpg              1.0  ...        0.0\n",
              "...                                               ...  ...        ...\n",
              "9b805665a791f40e7946a73dcea17e35.jpg              0.0  ...        1.0\n",
              "b5834f1e97c74d2833dbcb09a3f27926.jpg              0.0  ...        1.0\n",
              "7815fb39feb773db944c9f03bbdcbf64.jpg              0.0  ...        1.0\n",
              "d407ab825e1a266635214bfe893f29c4.jpg              0.0  ...        1.0\n",
              "5a54c78b52c984e56500809e5bc27ae1.jpg              0.0  ...        1.0\n",
              "\n",
              "[1050 rows x 7 columns]"
            ]
          },
          "metadata": {},
          "execution_count": 14
        }
      ]
    },
    {
      "cell_type": "markdown",
      "metadata": {
        "id": "khiUaJsVMeoj"
      },
      "source": [
        "Nous avons obtenu ici une base de données de nos 1050 photos etiquettées avec 1 pour la catégorie conrrespondante et 0 pour les autres catégories."
      ]
    },
    {
      "cell_type": "code",
      "metadata": {
        "colab": {
          "base_uri": "https://localhost:8080/"
        },
        "id": "bCOARN6HqgMQ",
        "outputId": "2a2690a7-fb41-4ea9-d132-96f53590fcfa"
      },
      "source": [
        "classes=data.columns.tolist()\n",
        "classes"
      ],
      "execution_count": null,
      "outputs": [
        {
          "output_type": "execute_result",
          "data": {
            "text/plain": [
              "['Home Furnishing',\n",
              " 'Baby Care',\n",
              " 'Watches',\n",
              " 'Home Decor & Festive Needs',\n",
              " 'Kitchen & Dining',\n",
              " 'Beauty and Personal Care',\n",
              " 'Computers']"
            ]
          },
          "metadata": {},
          "execution_count": 15
        }
      ]
    },
    {
      "cell_type": "code",
      "metadata": {
        "colab": {
          "base_uri": "https://localhost:8080/"
        },
        "id": "V4pqfNmiqkma",
        "outputId": "468cab44-28c0-4f2e-a1ce-b5858048c3af"
      },
      "source": [
        "#création de 3 sous groupes: train, test et validation:\n",
        "trainset, test_valid = train_test_split(data, test_size=0.3, shuffle=True, random_state=1)\n",
        "testset, validset=train_test_split(test_valid,test_size=0.5,shuffle=True, random_state=1)\n",
        "print('trainset size:',trainset.shape,'validset size:',validset.shape,'testset size:',testset.shape)"
      ],
      "execution_count": null,
      "outputs": [
        {
          "output_type": "stream",
          "name": "stdout",
          "text": [
            "trainset size: (735, 7) validset size: (158, 7) testset size: (157, 7)\n"
          ]
        }
      ]
    },
    {
      "cell_type": "code",
      "metadata": {
        "id": "8kxJtGPjqm90"
      },
      "source": [
        "files=['train','test','val']"
      ],
      "execution_count": null,
      "outputs": []
    },
    {
      "cell_type": "code",
      "metadata": {
        "id": "FWULjzQyqnAZ"
      },
      "source": [
        "# Sauvegarder les 3 datasets:\n",
        "trainset.to_csv(path_data+\"train.csv\")\n",
        "testset.to_csv(path_data+\"test.csv\")\n",
        "validset.to_csv(path_data+\"valid.csv\")\n",
        "data.to_csv(path_data+\"data.csv\")"
      ],
      "execution_count": null,
      "outputs": []
    },
    {
      "cell_type": "code",
      "metadata": {
        "colab": {
          "base_uri": "https://localhost:8080/"
        },
        "id": "l3CQE_9eqnC_",
        "outputId": "2ab17c5c-ea60-4dae-c77d-665e5e650ed4"
      },
      "source": [
        "new_folder(path_data,'Multi_labels')"
      ],
      "execution_count": null,
      "outputs": [
        {
          "output_type": "stream",
          "name": "stdout",
          "text": [
            "Le dossier:Multi_labels est créé\n"
          ]
        }
      ]
    },
    {
      "cell_type": "code",
      "metadata": {
        "colab": {
          "base_uri": "https://localhost:8080/"
        },
        "id": "S82v6jPYqnFl",
        "outputId": "4f9a527d-2e4d-4fd0-d1fe-84c348bc5aee"
      },
      "source": [
        "\n",
        "for file in files:\n",
        "  new_folder(path_data+'Multi_labels/',file)\n",
        "  new_folder(path_data,file)\n"
      ],
      "execution_count": null,
      "outputs": [
        {
          "output_type": "stream",
          "name": "stdout",
          "text": [
            "Le dossier:train est créé\n",
            "Le dossier:train est créé\n",
            "Le dossier:test est créé\n",
            "Le dossier:test est créé\n",
            "Le dossier:val est créé\n",
            "Le dossier:val est créé\n"
          ]
        }
      ]
    },
    {
      "cell_type": "code",
      "metadata": {
        "id": "D0x_wsaOqnID"
      },
      "source": [
        "# Fonction pour sauvegarder les images:\n",
        "def save_all_images(dataset,path):\n",
        "  for i in range(len(dataset)):\n",
        "    im=Image.open(path_res+dataset.index[i])\n",
        "    im.save(path+ dataset.index[i].split(\"/\")[-1])"
      ],
      "execution_count": null,
      "outputs": []
    },
    {
      "cell_type": "code",
      "metadata": {
        "id": "S6o573MsqnKx"
      },
      "source": [
        "# les chemins des test, train et valid: \n",
        "path_test=path_data+'Multi_labels/test/'\n",
        "path_train=path_data+'Multi_labels/train/'\n",
        "path_val=path_data+'Multi_labels/val/'"
      ],
      "execution_count": null,
      "outputs": []
    },
    {
      "cell_type": "code",
      "metadata": {
        "id": "3viDmgx3qnOT"
      },
      "source": [
        "# Sauvegarder les images correspondantes aux 3 groupes test, train et valid:\n",
        "save_all_images(trainset,path_data+'train/')\n",
        "save_all_images(testset,path_data+'test/')\n",
        "save_all_images(validset,path_data+'val/')"
      ],
      "execution_count": null,
      "outputs": []
    },
    {
      "cell_type": "code",
      "metadata": {
        "colab": {
          "base_uri": "https://localhost:8080/"
        },
        "id": "3l0c4KFbqzqN",
        "outputId": "f119675b-9e5f-4266-c51d-ffb3af5e0dc2"
      },
      "source": [
        "# Sauegarder les images correspondantes aux 3 groupe en faisant la distinction des catégories:\n",
        "for classe in classes:\n",
        "  new_folder(path_data+'Multi_labels/train/',classe)\n",
        "  new_folder(path_data+'Multi_labels/test/',classe)\n",
        "  new_folder(path_data+'Multi_labels/val/',classe)\n"
      ],
      "execution_count": null,
      "outputs": [
        {
          "output_type": "stream",
          "name": "stdout",
          "text": [
            "Le dossier:Home Furnishing est créé\n",
            "Le dossier:Home Furnishing est créé\n",
            "Le dossier:Home Furnishing est créé\n",
            "Le dossier:Baby Care est créé\n",
            "Le dossier:Baby Care est créé\n",
            "Le dossier:Baby Care est créé\n",
            "Le dossier:Watches est créé\n",
            "Le dossier:Watches est créé\n",
            "Le dossier:Watches est créé\n",
            "Le dossier:Home Decor & Festive Needs est créé\n",
            "Le dossier:Home Decor & Festive Needs est créé\n",
            "Le dossier:Home Decor & Festive Needs est créé\n",
            "Le dossier:Kitchen & Dining est créé\n",
            "Le dossier:Kitchen & Dining est créé\n",
            "Le dossier:Kitchen & Dining est créé\n",
            "Le dossier:Beauty and Personal Care est créé\n",
            "Le dossier:Beauty and Personal Care est créé\n",
            "Le dossier:Beauty and Personal Care est créé\n",
            "Le dossier:Computers est créé\n",
            "Le dossier:Computers est créé\n",
            "Le dossier:Computers est créé\n"
          ]
        }
      ]
    },
    {
      "cell_type": "code",
      "metadata": {
        "id": "WxESK3IZqzs-"
      },
      "source": [
        "# Fonction pour sauvegarder les images resizées:\n",
        "def save_resized_image(dataset,path):\n",
        "  for i in range(len(dataset)):\n",
        "    im=Image.open(path_res+dataset.index[i])\n",
        "    for classe in classes:\n",
        "      if dataset[classe][i]==1:\n",
        "        im.save(path+classe+'/'+ dataset.index[i].split(\"/\")[-1])\n",
        "\n"
      ],
      "execution_count": null,
      "outputs": []
    },
    {
      "cell_type": "markdown",
      "metadata": {
        "id": "CbilA2gBN_PM"
      },
      "source": [
        "Application de la fonction de sauveragde pour chaque groupe d'images:"
      ]
    },
    {
      "cell_type": "code",
      "metadata": {
        "id": "WasVQ_7Vqzvq"
      },
      "source": [
        "save_resized_image(testset,path_test)"
      ],
      "execution_count": null,
      "outputs": []
    },
    {
      "cell_type": "code",
      "metadata": {
        "id": "cGumLVxxqzzE"
      },
      "source": [
        "save_resized_image(trainset,path_train)"
      ],
      "execution_count": null,
      "outputs": []
    },
    {
      "cell_type": "code",
      "metadata": {
        "id": "ctjwyhs3q9na"
      },
      "source": [
        "save_resized_image(validset,path_val)"
      ],
      "execution_count": null,
      "outputs": []
    }
  ]
}